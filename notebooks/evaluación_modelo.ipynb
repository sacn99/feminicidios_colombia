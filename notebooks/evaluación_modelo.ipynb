{
 "cells": [
  {
   "cell_type": "code",
   "execution_count": 36,
   "metadata": {},
   "outputs": [
    {
     "ename": "ModuleNotFoundError",
     "evalue": "No module named 'tensorflow'",
     "output_type": "error",
     "traceback": [
      "\u001b[1;31m---------------------------------------------------------------------------\u001b[0m",
      "\u001b[1;31mModuleNotFoundError\u001b[0m                       Traceback (most recent call last)",
      "Cell \u001b[1;32mIn[36], line 1\u001b[0m\n\u001b[1;32m----> 1\u001b[0m \u001b[39mimport\u001b[39;00m \u001b[39mtensorflow\u001b[39;00m \u001b[39mas\u001b[39;00m \u001b[39mtf\u001b[39;00m\n\u001b[0;32m      2\u001b[0m \u001b[39mfrom\u001b[39;00m \u001b[39mtensorflow\u001b[39;00m\u001b[39m.\u001b[39;00m\u001b[39mkeras\u001b[39;00m \u001b[39mimport\u001b[39;00m layers\n",
      "\u001b[1;31mModuleNotFoundError\u001b[0m: No module named 'tensorflow'"
     ]
    }
   ],
   "source": [
    "import tensorflow as tf\n",
    "from tensorflow.keras.layers import Input, Dense, Reshape, Flatten, Conv2D, Conv2DTranspose, LeakyReLU, BatchNormalization, ReLU\n",
    "from tensorflow.keras.models import Model"
   ]
  },
  {
   "cell_type": "code",
   "execution_count": null,
   "metadata": {},
   "outputs": [],
   "source": [
    "def build_generator(latent_dim):\n",
    "    input = Input(shape=(latent_dim,))\n",
    "    x = Dense(8 * 8 * 128)(input)\n",
    "    x = Reshape((8, 8, 128))(x)\n",
    "    x = BatchNormalization()(x)\n",
    "    x = ReLU()(x)\n",
    "\n",
    "    x = Conv2DTranspose(64, kernel_size=4, strides=2, padding='same')(x)\n",
    "    x = BatchNormalization()(x)\n",
    "    x = ReLU()(x)\n",
    "\n",
    "    x = Conv2DTranspose(32, kernel_size=4, strides=2, padding='same')(x)\n",
    "    x = BatchNormalization()(x)\n",
    "    x = ReLU()(x)\n",
    "\n",
    "    output = Conv2DTranspose(1, kernel_size=4, strides=2, padding='same', activation='sigmoid')(x)\n",
    "    return Model(input, output)\n",
    "\n",
    "def build_discriminator(img_shape):\n",
    "    input = Input(shape=img_shape)\n",
    "    x = Conv2D(32, kernel_size=4, strides=2, padding='same')(input)\n",
    "    x = LeakyReLU(alpha=0.2)(x)\n",
    "\n",
    "    x = Conv2D(64, kernel_size=4, strides=2, padding='same')(x)\n",
    "    x = BatchNormalization()(x)\n",
    "    x = LeakyReLU(alpha=0.2)(x)\n",
    "\n",
    "    x = Conv2D(128, kernel_size=4, strides=2, padding='same')(x)\n",
    "    x = BatchNormalization()(x)\n",
    "    x = LeakyReLU(alpha=0.2)(x)\n",
    "\n",
    "    x = Flatten()(x)\n",
    "    output = Dense(1, activation='sigmoid')(x)\n",
    "    return Model(input, output)"
   ]
  },
  {
   "attachments": {},
   "cell_type": "markdown",
   "metadata": {},
   "source": [
    "##Define loss functions and optimaziers"
   ]
  },
  {
   "cell_type": "code",
   "execution_count": null,
   "metadata": {},
   "outputs": [],
   "source": [
    "generator_optimizer = tf.keras.optimizers.Adam(0.0002, 0.5)\n",
    "discriminator_optimizer = tf.keras.optimizers.Adam(0.0002, 0.5)"
   ]
  },
  {
   "attachments": {},
   "cell_type": "markdown",
   "metadata": {},
   "source": [
    "##Data load"
   ]
  },
  {
   "cell_type": "code",
   "execution_count": null,
   "metadata": {},
   "outputs": [],
   "source": [
    "img_shape = (64, 64, 1)\n",
    "latent_dim = 100\n",
    "\n",
    "generator = build_generator(latent_dim)\n",
    "discriminator = build_discriminator(img_shape)\n",
    "\n",
    "transform = tf.keras.preprocessing.image.ImageDataGenerator(\n",
    "    rescale=1. / 255,\n",
    "    zoom_range=0.1,\n",
    "    width_shift_range=0.1,\n",
    "    height_shift_range=0.1\n",
    ")\n",
    "\n",
    "dataloader = transform.flow_from_directory(\n",
    "    'data',\n",
    "    target_size=(64, 64),\n",
    "    color_mode='grayscale',\n",
    "    batch_size=128,\n",
    "    class_mode=None\n",
    ")"
   ]
  },
  {
   "attachments": {},
   "cell_type": "markdown",
   "metadata": {},
   "source": [
    "##GAN Training"
   ]
  },
  {
   "cell_type": "code",
   "execution_count": null,
   "metadata": {},
   "outputs": [],
   "source": [
    "num_epochs = 100\n",
    "batch_size = 128\n",
    "\n",
    "for epoch in range(num_epochs):\n",
    "    for real_imgs in dataloader:\n",
    "        # Actualiza el discriminador\n",
    "        real_labels = tf.ones((real_imgs.shape[0], 1))\n",
    "        fake_imgs = generator(tf.random.normal((real_imgs.shape[0], latent_dim)))\n",
    "        fake_labels = tf.zeros((real_imgs.shape[0], 1))\n",
    "\n",
    "        with tf.GradientTape() as tape_real, tf.GradientTape() as tape_fake:\n",
    "            real_preds = discriminator(real_imgs)\n",
    "            fake_preds = discriminator(fake_imgs)\n",
    "            real_loss = tf.keras.losses.binary_crossentropy(real_labels, real_preds)\n",
    "            fake_loss = tf.keras.losses.binary_crossentropy(fake_labels, fake_preds)\n",
    "            total_loss = (real_loss + fake_loss) / 2\n",
    "\n",
    "        real_grads = tape_real.gradient(real_loss, discriminator.trainable_weights)\n",
    "        fake_grads = tape_fake.gradient(fake_loss, discriminator.trainable_weights)\n",
    "        discriminator_optimizer.apply_gradients(zip(real_grads + fake_grads, discriminator.trainable_weights))\n",
    "\n",
    "        # Actualiza el generador\n",
    "        noise = tf.random.normal((batch_size, latent_dim))\n",
    "        real_labels = tf.ones((batch_size, 1))\n",
    "\n",
    "        with tf.GradientTape() as tape:\n",
    "            fake_imgs = generator(noise)\n",
    "            fake_preds = discriminator(fake_imgs)\n",
    "            gen_loss = tf.keras.losses.binary_crossentropy(real_labels, fake_preds)\n",
    "\n",
    "        gen_grads = tape.gradient(gen_loss, generator.trainable_weights)\n",
    "        generator_optimizer.apply_gradients(zip(gen_grads, generator.trainable_weights))\n",
    "\n",
    "    print(f\"Epoch {epoch+1}/{num_epochs} | D Loss: {total_loss.numpy().mean()} | G Loss: {gen_loss.numpy().mean()}\")"
   ]
  }
 ],
 "metadata": {
  "kernelspec": {
   "display_name": "Python 3",
   "language": "python",
   "name": "python3"
  },
  "language_info": {
   "codemirror_mode": {
    "name": "ipython",
    "version": 3
   },
   "file_extension": ".py",
   "mimetype": "text/x-python",
   "name": "python",
   "nbconvert_exporter": "python",
   "pygments_lexer": "ipython3",
   "version": "3.11.3"
  },
  "orig_nbformat": 4
 },
 "nbformat": 4,
 "nbformat_minor": 2
}
